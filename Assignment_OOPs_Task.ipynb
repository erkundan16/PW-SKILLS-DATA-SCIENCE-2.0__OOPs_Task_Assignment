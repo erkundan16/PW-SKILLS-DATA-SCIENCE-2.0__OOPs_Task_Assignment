{
 "cells": [
  {
   "cell_type": "markdown",
   "id": "86872036-032d-4b96-b15a-5334919c59ae",
   "metadata": {},
   "source": [
    "Q1. Create a vehicle class with an init method having instance variables as name_of_vehicle, max_speed and average_of_vehicle."
   ]
  },
  {
   "cell_type": "code",
   "execution_count": 3,
   "id": "dff11b02-20ba-41f5-b75e-decd6408e945",
   "metadata": {},
   "outputs": [
    {
     "name": "stdout",
     "output_type": "stream",
     "text": [
      "Name of the vehicle: Toyota Camry\n",
      "Max speed: 140 km/h\n",
      "Average speed: 60 km/h\n"
     ]
    }
   ],
   "source": [
    "class Vehicle:\n",
    "    def __init__(self, name_of_vehicle, max_speed, average_speed):\n",
    "        self.name_of_vehicle = name_of_vehicle\n",
    "        self.max_speed = max_speed\n",
    "        self.average_speed = average_speed\n",
    "\n",
    "# Example usage:\n",
    "car = Vehicle(\"Toyota Camry\", 140, 60)\n",
    "print(f\"Name of the vehicle: {car.name_of_vehicle}\")\n",
    "print(f\"Max speed: {car.max_speed} km/h\")\n",
    "print(f\"Average speed: {car.average_speed} km/h\")\n"
   ]
  },
  {
   "cell_type": "markdown",
   "id": "5bd67529-240f-41d3-aca4-00a3940da9f9",
   "metadata": {},
   "source": [
    "Q2. Create a child class car from the vehicle class created in Que 1, which will inherit the vehicle class. Create a method named seating_capacity which takes capacity as an argument and returns the name of the vehicle and its seating capacity."
   ]
  },
  {
   "cell_type": "code",
   "execution_count": 4,
   "id": "dd9d27a8-66f1-4de6-97d2-1562fa97ba4c",
   "metadata": {},
   "outputs": [
    {
     "name": "stdout",
     "output_type": "stream",
     "text": [
      "Toyota Camry has a seating capacity of 5 passengers.\n"
     ]
    }
   ],
   "source": [
    "class Car(Vehicle):\n",
    "    def __init__(self, name_of_vehicle, max_speed, average_speed):\n",
    "        super().__init__(name_of_vehicle, max_speed, average_speed)\n",
    "\n",
    "    def seating_capacity(self, capacity):\n",
    "        return f\"{self.name_of_vehicle} has a seating capacity of {capacity} passengers.\"\n",
    "\n",
    "# Example usage:\n",
    "car = Car(\"Toyota Camry\", 140, 60)\n",
    "print(car.seating_capacity(5))\n"
   ]
  },
  {
   "cell_type": "markdown",
   "id": "06a35b3f-e876-4244-9473-c3f834dbd82a",
   "metadata": {},
   "source": [
    "Q3. What is multiple inheritance? Write a python code to demonstrate multiple inheritance."
   ]
  },
  {
   "cell_type": "code",
   "execution_count": 5,
   "id": "4acdb942-9f2e-412a-b2ff-7a2764dcb0ac",
   "metadata": {},
   "outputs": [
    {
     "name": "stdout",
     "output_type": "stream",
     "text": [
      "Toyota Camry is a Blue car with a max speed of 180 km/h.\n",
      "Toyota Camry can reach a max speed of 180 km/h.\n",
      "This vehicle uses Gasoline fuel and has an engine power of 200 horsepower.\n"
     ]
    }
   ],
   "source": [
    " # What is multiple inheritance?\n",
    "\"\"\"\n",
    "    Multiple inheritance is a feature in object-oriented programming languages like Python that allows a class to inherit\n",
    "    attributes and methods from more than one parent class. This means a child class can inherit properties and behaviors\n",
    "    from multiple base classes.\n",
    "\n",
    "\"\"\"\n",
    "\n",
    "\n",
    "# Parent class 1\n",
    "class Vehicle:\n",
    "    def __init__(self, name, max_speed):\n",
    "        self.name = name\n",
    "        self.max_speed = max_speed\n",
    "\n",
    "    def show_info(self):\n",
    "        return f\"{self.name} can reach a max speed of {self.max_speed} km/h.\"\n",
    "\n",
    "# Parent class 2\n",
    "class Engine:\n",
    "    def __init__(self, fuel_type, engine_power):\n",
    "        self.fuel_type = fuel_type\n",
    "        self.engine_power = engine_power\n",
    "\n",
    "    def engine_info(self):\n",
    "        return f\"This vehicle uses {self.fuel_type} fuel and has an engine power of {self.engine_power} horsepower.\"\n",
    "\n",
    "# Child class inheriting from both Vehicle and Engine\n",
    "class Car(Vehicle, Engine):\n",
    "    def __init__(self, name, max_speed, fuel_type, engine_power, color):\n",
    "        # Call constructors of both parent classes\n",
    "        Vehicle.__init__(self, name, max_speed)\n",
    "        Engine.__init__(self, fuel_type, engine_power)\n",
    "        self.color = color\n",
    "\n",
    "    def car_info(self):\n",
    "        return f\"{self.name} is a {self.color} car with a max speed of {self.max_speed} km/h.\"\n",
    "\n",
    "# Create an instance of the Car class\n",
    "my_car = Car(\"Toyota Camry\", 180, \"Gasoline\", 200, \"Blue\")\n",
    "\n",
    "# Access methods from both parent classes and the child class\n",
    "print(my_car.car_info())\n",
    "print(my_car.show_info())\n",
    "print(my_car.engine_info())\n"
   ]
  },
  {
   "cell_type": "markdown",
   "id": "481c6873-5941-4939-a3b8-eb463916a9f7",
   "metadata": {},
   "source": [
    "Q4. What are getter and setter in python? Create a class and create a getter and a setter method in this class."
   ]
  },
  {
   "cell_type": "code",
   "execution_count": 6,
   "id": "206be2b1-44a6-4014-9082-ff4dee61764c",
   "metadata": {},
   "outputs": [
    {
     "name": "stdout",
     "output_type": "stream",
     "text": [
      "Alice\n",
      "Bob\n",
      "20\n",
      "25\n"
     ]
    }
   ],
   "source": [
    "#What are getter and setter in python?\n",
    "\"\"\"\n",
    "getters and setters are methods used to control access to the attributes (variables) of a class. They allow you to\n",
    "get (retrieve) and set (modify) the values of private or protected attributes while providing control over the access\n",
    "and possibly applying validation or logic during these operations.\n",
    "\n",
    "\n",
    "\"\"\"\n",
    "\n",
    "\n",
    "\n",
    "\n",
    "\n",
    "class Student:\n",
    "    def __init__(self, name, age):\n",
    "        self._name = name  # Protected attribute\n",
    "        self._age = age    # Protected attribute\n",
    "\n",
    "    # Getter method for name\n",
    "    def get_name(self):\n",
    "        return self._name\n",
    "\n",
    "    # Setter method for name\n",
    "    def set_name(self, name):\n",
    "        if isinstance(name, str):\n",
    "            self._name = name\n",
    "        else:\n",
    "            print(\"Name must be a string.\")\n",
    "\n",
    "    # Getter method for age\n",
    "    def get_age(self):\n",
    "        return self._age\n",
    "\n",
    "    # Setter method for age\n",
    "    def set_age(self, age):\n",
    "        if age >= 0:\n",
    "            self._age = age\n",
    "        else:\n",
    "            print(\"Age must be a non-negative integer.\")\n",
    "\n",
    "# Create an instance of the Student class\n",
    "student = Student(\"Alice\", 20)\n",
    "\n",
    "# Using the getter method to retrieve the name\n",
    "print(student.get_name())  # Output: Alice\n",
    "\n",
    "# Using the setter method to change the name\n",
    "student.set_name(\"Bob\")\n",
    "print(student.get_name())  # Output: Bob\n",
    "\n",
    "# Using the getter method to retrieve the age\n",
    "print(student.get_age())   # Output: 20\n",
    "\n",
    "# Using the setter method to change the age\n",
    "student.set_age(25)\n",
    "print(student.get_age())   # Output: 25\n"
   ]
  },
  {
   "cell_type": "markdown",
   "id": "e03c2fc5-e39d-4c9f-bd7f-4a733f82209d",
   "metadata": {},
   "source": [
    "Q5.What is method overriding in python? Write a python code to demonstrate method overriding."
   ]
  },
  {
   "cell_type": "code",
   "execution_count": 7,
   "id": "63a78f51-8660-4fc5-88ba-db1fb2271e92",
   "metadata": {},
   "outputs": [
    {
     "name": "stdout",
     "output_type": "stream",
     "text": [
      "Dog barks\n",
      "Cat meows\n"
     ]
    }
   ],
   "source": [
    "#What is method overriding in python?\n",
    "\"\"\"\n",
    "Method overriding is a concept in object-oriented programming where a subclass provides a specific implementation of a\n",
    "method that is already defined in its superclass. When a method is overridden in the subclass, the subclass version of the\n",
    "method is called instead of the superclass version when the method is invoked on an object of the subclass.\n",
    "\n",
    "\"\"\"\n",
    "\n",
    "\n",
    "\n",
    "\n",
    "\n",
    "\n",
    "\n",
    "\n",
    "class Animal:\n",
    "    def speak(self):\n",
    "        print(\"Animal speaks\")\n",
    "\n",
    "class Dog(Animal):\n",
    "    # Override the speak method\n",
    "    def speak(self):\n",
    "        print(\"Dog barks\")\n",
    "\n",
    "class Cat(Animal):\n",
    "    # Override the speak method\n",
    "    def speak(self):\n",
    "        print(\"Cat meows\")\n",
    "\n",
    "# Create instances of the subclasses\n",
    "dog = Dog()\n",
    "cat = Cat()\n",
    "\n",
    "# Call the speak method on the instances\n",
    "dog.speak()  # Output: Dog barks\n",
    "cat.speak()  # Output: Cat meows\n"
   ]
  },
  {
   "cell_type": "code",
   "execution_count": null,
   "id": "70ac06d3-0f3f-477c-8e4f-51da18d08b8e",
   "metadata": {},
   "outputs": [],
   "source": []
  }
 ],
 "metadata": {
  "kernelspec": {
   "display_name": "Python 3 (ipykernel)",
   "language": "python",
   "name": "python3"
  },
  "language_info": {
   "codemirror_mode": {
    "name": "ipython",
    "version": 3
   },
   "file_extension": ".py",
   "mimetype": "text/x-python",
   "name": "python",
   "nbconvert_exporter": "python",
   "pygments_lexer": "ipython3",
   "version": "3.10.8"
  }
 },
 "nbformat": 4,
 "nbformat_minor": 5
}
